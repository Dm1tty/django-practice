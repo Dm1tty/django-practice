{
 "cells": [
  {
   "cell_type": "code",
   "execution_count": 22,
   "id": "8baf06e9",
   "metadata": {},
   "outputs": [],
   "source": [
    "import pandas as pd\n",
    "import seaborn as sns\n",
    "import matplotlib.pyplot as plt\n",
    "df = pd.read_csv(\"train.csv\")\n"
   ]
  },
  {
   "cell_type": "code",
   "execution_count": 23,
   "id": "c79c3f1b",
   "metadata": {},
   "outputs": [],
   "source": [
    "def get_title(name):\n",
    "    if '.' in name:\n",
    "        return name.split(',')[1].split('.')[0].strip()\n",
    "    else:\n",
    "        return \"No title in name\""
   ]
  },
  {
   "cell_type": "code",
   "execution_count": 24,
   "id": "a1ca4cc4",
   "metadata": {},
   "outputs": [],
   "source": [
    "titles = set([x for x in df.Name.map(lambda x: get_title(x))])"
   ]
  },
  {
   "cell_type": "code",
   "execution_count": 25,
   "id": "3ab5b64a",
   "metadata": {},
   "outputs": [
    {
     "name": "stdout",
     "output_type": "stream",
     "text": [
      "{'Ms', 'Sir', 'Mr', 'Dr', 'Major', 'Miss', 'Mlle', 'Mme', 'Col', 'Master', 'Mrs', 'Rev', 'Capt', 'Jonkheer', 'the Countess', 'Don', 'Lady'}\n"
     ]
    }
   ],
   "source": [
    "print(titles)"
   ]
  },
  {
   "cell_type": "code",
   "execution_count": 36,
   "id": "216504d9",
   "metadata": {},
   "outputs": [],
   "source": [
    "def shorter_titles(x):\n",
    "    title = x[\"Title\"]\n",
    "    if title in [\"Capt\",\"Col\",\"Major\"]:\n",
    "        return \"Officer\"\n",
    "    elif title in [\"Jonkheer\",\"Don\",\"the Countess\",\"Dona\",\"Lady\",\"Sir\"]:\n",
    "        return \"Royalty\"\n",
    "    elif title == \"Mme\":\n",
    "        return \"Mrs\"\n",
    "    elif title in [\"Mlle\",\"Ms\"]:\n",
    "        return \"Miss\"\n",
    "    else:\n",
    "        return title\n",
    "        "
   ]
  },
  {
   "cell_type": "code",
   "execution_count": 37,
   "id": "bb52dee9",
   "metadata": {},
   "outputs": [],
   "source": [
    "df[\"Title\"] = df[\"Name\"].map(lambda x: get_title(x))"
   ]
  },
  {
   "cell_type": "code",
   "execution_count": 38,
   "id": "0de7b640",
   "metadata": {},
   "outputs": [],
   "source": [
    "df[\"Title\"] = df.apply(shorter_titles, axis = 1)"
   ]
  },
  {
   "cell_type": "code",
   "execution_count": 39,
   "id": "1df8cc4d",
   "metadata": {},
   "outputs": [
    {
     "name": "stdout",
     "output_type": "stream",
     "text": [
      "Mr         517\n",
      "Miss       185\n",
      "Mrs        126\n",
      "Master      40\n",
      "Dr           7\n",
      "Rev          6\n",
      "Royalty      5\n",
      "Officer      5\n",
      "Name: Title, dtype: int64\n"
     ]
    }
   ],
   "source": [
    "print(df.Title.value_counts())"
   ]
  },
  {
   "cell_type": "code",
   "execution_count": null,
   "id": "95e5062d",
   "metadata": {},
   "outputs": [],
   "source": []
  }
 ],
 "metadata": {
  "kernelspec": {
   "display_name": "Python 3 (ipykernel)",
   "language": "python",
   "name": "python3"
  },
  "language_info": {
   "codemirror_mode": {
    "name": "ipython",
    "version": 3
   },
   "file_extension": ".py",
   "mimetype": "text/x-python",
   "name": "python",
   "nbconvert_exporter": "python",
   "pygments_lexer": "ipython3",
   "version": "3.9.6"
  }
 },
 "nbformat": 4,
 "nbformat_minor": 5
}
